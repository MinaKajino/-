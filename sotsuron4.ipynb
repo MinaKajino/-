{
  "nbformat": 4,
  "nbformat_minor": 0,
  "metadata": {
    "colab": {
      "provenance": [],
      "collapsed_sections": [
        "CnQEC6BnoJlm",
        "5aWzYfhQoGe1",
        "tcCtJGHioEY2",
        "EegwnE_ooe5_",
        "YBgLOWdaHlW_",
        "Mi6rEHazHqOD",
        "a9_cEpB-o7qJ",
        "oSTiygsSpbTX"
      ],
      "toc_visible": true,
      "authorship_tag": "ABX9TyNRdovguQNxXU8++ejVq3TJ",
      "include_colab_link": true
    },
    "kernelspec": {
      "name": "python3",
      "display_name": "Python 3"
    },
    "language_info": {
      "name": "python"
    }
  },
  "cells": [
    {
      "cell_type": "markdown",
      "metadata": {
        "id": "view-in-github",
        "colab_type": "text"
      },
      "source": [
        "<a href=\"https://colab.research.google.com/github/MinaKajino/sotsuron/blob/main/sotsuron4.ipynb\" target=\"_parent\"><img src=\"https://colab.research.google.com/assets/colab-badge.svg\" alt=\"Open In Colab\"/></a>"
      ]
    },
    {
      "cell_type": "markdown",
      "source": [
        "#⑴ ライブラリの読み込み"
      ],
      "metadata": {
        "id": "CnQEC6BnoJlm"
      }
    },
    {
      "cell_type": "code",
      "source": [
        "import pprint\n",
        "\n",
        "import numpy as np\n",
        "import pandas as pd\n",
        "\n",
        "from matplotlib import pyplot\n",
        "import japanize_matplotlib\n",
        "\n",
        "from sklearn.model_selection import train_test_split\n",
        "from sklearn.linear_model import LinearRegression\n",
        "from sklearn.linear_model import LogisticRegression\n",
        "from sklearn.metrics import confusion_matrix, accuracy_score, precision_score, recall_score, f1_score\n",
        "from sklearn.metrics import roc_auc_score\n",
        "\n",
        "from scipy import stats\n",
        "\n",
        "from google.colab import files"
      ],
      "metadata": {
        "id": "RNGy05BxWmUY"
      },
      "execution_count": null,
      "outputs": []
    },
    {
      "cell_type": "markdown",
      "source": [
        "#⑵ データの読み込み"
      ],
      "metadata": {
        "id": "5aWzYfhQoGe1"
      }
    },
    {
      "cell_type": "code",
      "source": [
        "#データの読み込み\n",
        "\n",
        "JHPS2009 = pd.read_csv('JHPS2009data_ver8.0.csv', header=None)\n",
        "JHPS2010 = pd.read_csv('JHPS2010data_ver8.0.csv', header = None)\n",
        "JHPS2011 = pd.read_csv('JHPS2011data_ver8.0.csv', header = None)\n",
        "JHPS2012 = pd.read_csv('JHPS2012data_ver8.0.csv', header = None)\n",
        "JHPS2013 = pd.read_csv('JHPS2013data_ver8.0.csv', header = None)\n",
        "JHPS2014 = pd.read_csv('JHPS2014data_ver8.0.csv', header = None)\n",
        "JHPS2015 = pd.read_csv('JHPS2015data_ver8.0.csv', header = None)\n",
        "JHPS2016 = pd.read_csv('JHPS2016data_ver7.0.csv', header = None)\n",
        "JHPS2017 = pd.read_csv('JHPS2017data_ver6.0.csv', header = None)\n",
        "JHPS2018 = pd.read_csv('JHPS2018data_ver5.0.csv', header = None)\n",
        "JHPS2019 = pd.read_csv('JHPS2019data_ver4.0.csv', header = None)\n",
        "JHPS2020 = pd.read_csv('JHPS2020data_ver3.0.csv', header = None)\n",
        "JHPS2021 = pd.read_csv('JHPS2021data_ver2.0.csv', header = None)\n",
        "\n",
        "JHPSs = [JHPS2009, JHPS2010, JHPS2011, JHPS2012, JHPS2013, JHPS2014, JHPS2015, JHPS2016, JHPS2017, JHPS2018, JHPS2019, JHPS2020, JHPS2021]"
      ],
      "metadata": {
        "id": "v49fMpU5Wp_U",
        "collapsed": true
      },
      "execution_count": null,
      "outputs": []
    },
    {
      "cell_type": "code",
      "source": [
        "#質問ナンバー\n",
        "NA = 'NA'\n",
        "\n",
        "Q2009 = {'転職希望':200,\n",
        "         '週平均残業':182, 'フレックス':179, '短時間勤務あり':193, '在宅勤務あり':194, '半休あり':195, '社内公募あり':197,\n",
        "         '勤務年数':167, '性別':5, '年齢':6, '最終学歴':142, '正規雇用':160, '本人収入':170,\n",
        "         '配偶者あり':4, '配偶者収入':303, '家族1人目続柄':11, '家族Q個数':10, '最大家族':9}\n",
        "Q2010 = {'転職希望':229,\n",
        "         '週平均残業':207, 'フレックス':204, '短時間勤務あり':222, '在宅勤務あり':223, '半休あり':224, '社内公募あり':226,\n",
        "         '勤務年数':231, '性別':5, '年齢':6, '最終学歴':NA, '正規雇用':189, '本人収入':197,\n",
        "         '配偶者あり':4, '配偶者収入':818, '家族1人目続柄':11, '家族Q個数':10, '最大家族':9}\n",
        "Q2011 = {'転職希望':217,\n",
        "         '週平均残業':201, 'フレックス':198, '短時間勤務あり':210, '在宅勤務あり':211, '半休あり':212, '社内公募あり':214,\n",
        "         '勤務年数':219, '性別':5, '年齢':6, '最終学歴':NA, '正規雇用':183, '本人収入':191,\n",
        "         '配偶者あり':4, '配偶者収入':404, '家族1人目続柄':11, '家族Q個数':10, '最大家族':9}\n",
        "Q2012 = {'転職希望':238,\n",
        "         '週平均残業':222, 'フレックス':219, '短時間勤務あり':231, '在宅勤務あり':232, '半休あり':233, '社内公募あり':235,\n",
        "         '勤務年数':240, '性別':5, '年齢':6, '最終学歴':NA, '正規雇用':204, '本人収入':212,\n",
        "         '配偶者あり':4, '配偶者収入':442, '家族1人目続柄':11, '家族Q個数':10, '最大家族':9}\n",
        "Q2013 = {'転職希望':232,\n",
        "         '週平均残業':216, 'フレックス':213, '短時間勤務あり':225, '在宅勤務あり':226, '半休あり':227, '社内公募あり':229,\n",
        "         '勤務年数':234, '性別':5, '年齢':6, '最終学歴':NA, '正規雇用':198, '本人収入':206,\n",
        "         '配偶者あり':4, '配偶者収入':471, '家族1人目続柄':11, '家族Q個数':10, '最大家族':9}\n",
        "Q2014 = {'転職希望':263,\n",
        "         '週平均残業':253, 'フレックス':250, '短時間勤務あり':256, '在宅勤務あり':257, '半休あり':258, '社内公募あり':260,\n",
        "         '勤務年数':265, '性別':5, '年齢':6, '最終学歴':NA, '正規雇用':234, '本人収入':243,\n",
        "         '配偶者あり':4, '配偶者収入':521, '家族1人目続柄':11, '家族Q個数':10, '最大家族':9}\n",
        "Q2015 = {'転職希望':235,\n",
        "         '週平均残業':225, 'フレックス':222, '短時間勤務あり':228, '在宅勤務あり':229, '半休あり':230, '社内公募あり':232,\n",
        "         '勤務年数':237, '性別':5, '年齢':6, '最終学歴':NA, '正規雇用':206, '本人収入':215,\n",
        "         '配偶者あり':4, '配偶者収入':495, '家族1人目続柄':11, '家族Q個数':10, '最大家族':9}\n",
        "Q2016 = {'転職希望':306,\n",
        "         '週平均残業':296, 'フレックス':293, '短時間勤務あり':299, '在宅勤務あり':300, '半休あり':301, '社内公募あり':303,\n",
        "         '勤務年数':308, '性別':5, '年齢':6, '最終学歴':NA, '正規雇用':277, '本人収入':286,\n",
        "         '配偶者あり':4, '配偶者収入':636, '家族1人目続柄':11, '家族Q個数':10, '最大家族':9}\n",
        "Q2017 = {'転職希望':710,\n",
        "         '週平均残業':700, 'フレックス':697, '短時間勤務あり':703, '在宅勤務あり':704, '半休あり':705, '社内公募あり':707,\n",
        "         '勤務年数':712, '性別':5, '年齢':6, '最終学歴':NA, '正規雇用':681, '本人収入':690,\n",
        "         '配偶者あり':4, '配偶者収入':1048, '家族1人目続柄':26, '家族Q個数':19, '最大家族':24}\n",
        "Q2018 = {'転職希望':646,\n",
        "         '週平均残業':636, 'フレックス':633, '短時間勤務あり':639, '在宅勤務あり':640, '半休あり':641, '社内公募あり':643,\n",
        "         '勤務年数':648, '性別':5, '年齢':6, '最終学歴':NA, '正規雇用':617, '本人収入':626,\n",
        "         '配偶者あり':4, '配偶者収入':1061, '家族1人目続柄':28, '家族Q個数':20, '最大家族':27}\n",
        "Q2019 = {'転職希望':857,\n",
        "         '週平均残業':847, 'フレックス':844, '短時間勤務あり':850, '在宅勤務あり':851, '半休あり':852, '社内公募あり':854,\n",
        "         '勤務年数':914, '性別':5, '年齢':6, '最終学歴':NA, '正規雇用':828, '本人収入':837,\n",
        "         '配偶者あり':4, '配偶者収入':1543, '家族1人目続柄':28, '家族Q個数':20, '最大家族':26}\n",
        "Q2020 = {'転職希望':658,\n",
        "         '週平均残業':648, 'フレックス':645, '短時間勤務あり':651, '在宅勤務あり':652, '半休あり':653, '社内公募あり':655,\n",
        "         '勤務年数':715, '性別':5, '年齢':6, '最終学歴':NA, '正規雇用':629, '本人収入':638,\n",
        "         '配偶者あり':4, '配偶者収入':1134, '家族1人目続柄':40, '家族Q個数':20, '最大家族':26}\n",
        "Q2021 = {'転職希望':655,\n",
        "         '週平均残業':641, 'フレックス':638, '短時間勤務あり':648, '在宅勤務あり':649, '半休あり':650, '社内公募あり':652,\n",
        "         '勤務年数':1212, '性別':5, '年齢':6, '最終学歴':NA, '正規雇用':622, '本人収入':631,\n",
        "         '配偶者あり':4, '配偶者収入':1131, '家族1人目続柄':32, '家族Q個数':20, '最大家族':26}\n",
        "\n",
        "Qs = [Q2009, Q2010, Q2011, Q2012, Q2013, Q2014, Q2015, Q2016, Q2017, Q2018, Q2019, Q2020, Q2021]"
      ],
      "metadata": {
        "id": "lS7hXEeVWrCT"
      },
      "execution_count": null,
      "outputs": []
    },
    {
      "cell_type": "markdown",
      "source": [
        "#⑶ データクリーニング"
      ],
      "metadata": {
        "id": "tcCtJGHioEY2"
      }
    },
    {
      "cell_type": "markdown",
      "source": [
        "##DataFrame"
      ],
      "metadata": {
        "id": "WFjk96M1oj6e"
      }
    },
    {
      "cell_type": "code",
      "execution_count": null,
      "metadata": {
        "id": "WIry9xN8DEAa"
      },
      "outputs": [],
      "source": [
        "DataFrames = []\n",
        "for JHPS in JHPSs:\n",
        "    x = pd.DataFrame({}, index=range(len(JHPS)))\n",
        "    DataFrames.append(x)\n",
        "#print(DataFrames)\n",
        "\n",
        "tensyoku_sum = []\n",
        "tensyoku_ave = []\n",
        "DataFrames2 = []\n",
        "\n",
        "for t in range(len(Qs)):\n",
        "\n",
        "    #転職する意思\n",
        "    tensyoku = []\n",
        "    for i in JHPSs[t][Qs[t]['転職希望'] -1]:\n",
        "        if i == 3:\n",
        "            tensyoku.append(1)\n",
        "        else: tensyoku.append(0)\n",
        "    tensyoku_sum.append(sum(tensyoku))\n",
        "    tensyoku_ave.append(sum(tensyoku)/len(tensyoku))\n",
        "\n",
        "    #週平均残業時間\n",
        "    zangyou = []\n",
        "    for i in JHPSs[t][Qs[t]['週平均残業'] -1]:\n",
        "        if i < 888:\n",
        "            zangyou.append(i)\n",
        "        else: zangyou.append(0)\n",
        "\n",
        "    #フレックス勤務D\n",
        "    flex = []\n",
        "    for i in JHPSs[t][Qs[t]['フレックス'] -1]:\n",
        "        if i == 2:\n",
        "            flex.append(1)\n",
        "        else : flex.append(0)\n",
        "\n",
        "    #短時間勤務制度ダミー\n",
        "    tanjikan = []\n",
        "    for i in JHPSs[t][Qs[t]['短時間勤務あり'] -1]:\n",
        "        if i == 2 or i ==3:\n",
        "            tanjikan.append(1)\n",
        "        else : tanjikan.append(0)\n",
        "\n",
        "    #在宅勤務制度ダミー\n",
        "    zaitaku = []\n",
        "    for i in JHPSs[t][Qs[t]['在宅勤務あり'] -1]:\n",
        "        if i == 2 or i ==3:\n",
        "            zaitaku.append(1)\n",
        "        else : zaitaku.append(0)\n",
        "\n",
        "    #半休制度ダミー\n",
        "    hankyu = []\n",
        "    for i in JHPSs[t][Qs[t]['半休あり'] -1]:\n",
        "        if i == 2 or i ==3:\n",
        "            hankyu.append(1)\n",
        "        else : hankyu.append(0)\n",
        "\n",
        "    #社内公募制度ダミー\n",
        "    koubo = []\n",
        "    for i in JHPSs[t][Qs[t]['社内公募あり'] -1]:\n",
        "        if i == 2 or i ==3:\n",
        "            koubo.append(1)\n",
        "        else : koubo.append(0)\n",
        "\n",
        "    #男性ダミー\n",
        "    male = []\n",
        "    for i in JHPSs[t][Qs[t]['性別'] -1]:\n",
        "        if i == 1:\n",
        "            male.append(1)\n",
        "        else : male.append(0)\n",
        "\n",
        "    #本人年齢\n",
        "    age = list(2009 - JHPSs[t][Qs[t]['年齢'] -1])\n",
        "\n",
        "    #293: 本人正規雇用\n",
        "    seiki = []\n",
        "    for i in JHPSs[t][Qs[t]['正規雇用'] -1]:\n",
        "        if 1<=i<=3:\n",
        "            seiki.append(1)\n",
        "        else: seiki.append(0)\n",
        "\n",
        "    #170: 本人収入(昨年)\n",
        "    wage = []\n",
        "    for i in JHPSs[t][Qs[t]['本人収入'] -1]:\n",
        "        if i < 88888:\n",
        "            wage.append(i)\n",
        "        else: wage.append(0)\n",
        "\n",
        "    #4: 配偶者ダミー\n",
        "    spose = []\n",
        "    for i in JHPSs[t][Qs[t]['配偶者あり'] -1]:\n",
        "        if i ==1:\n",
        "            spose.append(1)\n",
        "        else: spose.append(0)\n",
        "\n",
        "    #302: 配偶者収入(昨年)\n",
        "    wage2 = []\n",
        "    for i in JHPSs[t][Qs[t]['配偶者収入'] -1]:\n",
        "        if i < 88888:\n",
        "            wage2.append(i)\n",
        "        else: wage2.append(0)\n",
        "\n",
        "    #一人当たり世帯収入\n",
        "    wage_all = [wage[i] + wage2[i] for i in range(len(wage))]\n",
        "    len(wage)\n",
        "    wage_person = [wage_all[i]/(1+spose[i]) for i in range(len(wage_all))]\n",
        "\n",
        "    #子の人数\n",
        "    #'家族1人目続柄':11, '家族Q個数':10, '最大家族':9\n",
        "    tuzukigara_q = [Qs[t]['家族1人目続柄']+i*Qs[t]['家族Q個数'] for i in range(Qs[t]['家族Q個数']-1)]\n",
        "    tuzukigara = JHPSs[t].iloc[:, tuzukigara_q]\n",
        "    tuzukigara['配偶者D'] = spose\n",
        "\n",
        "    #謎のエラー解消できず…\n",
        "    tuzukigara2 = []\n",
        "    for row in tuzukigara.itertuples(name=None):\n",
        "        tuzukigara2.append(row)\n",
        "\n",
        "    children = []\n",
        "    for row in tuzukigara2:\n",
        "        if row[-1]==1:\n",
        "            count = 0\n",
        "            for i in row:\n",
        "                if i == 2:\n",
        "                    count += 1\n",
        "            children.append(count)\n",
        "        else:\n",
        "            if row[-1]==0:\n",
        "                count = 0\n",
        "                for i in row:\n",
        "                    if i == 1:\n",
        "                        count += 1\n",
        "                children.append(count)\n",
        "\n",
        "    df = DataFrames[t]\n",
        "    df['id'] = [i for i in JHPSs[t][0]]\n",
        "    df['年'] = t\n",
        "    df['転職希望D'] = tensyoku\n",
        "    df['週平均残業'] = zangyou\n",
        "    df['フレックスD'] = flex\n",
        "    df['短時間勤務D'] = tanjikan\n",
        "    df['在宅勤務D'] = zaitaku\n",
        "    df['半休D'] = hankyu\n",
        "    df['社内公募D'] = koubo\n",
        "    df['男性D'] = male\n",
        "    df['本人年齢'] = age\n",
        "    df['正規D'] = seiki\n",
        "    df['本人収入'] = wage\n",
        "    df['配偶者D'] = spose\n",
        "    df['一人当たり収入'] = wage_person\n",
        "    df['子の人数'] = children\n",
        "\n",
        "    wage_no = df.columns.get_loc('本人収入')\n",
        "    for i in range(len(df)):\n",
        "      if df.iat[i, wage_no] == 0:\n",
        "        df.iat[i, wage_no] = None\n",
        "\n",
        "    df = df.dropna()\n",
        "\n",
        "    DataFrames2.append(df)\n",
        "\n",
        "#残業 t=10\n",
        "#フレックス t=10\n",
        "#制度D t=10\n",
        "#正規D t=7, t=10\n",
        "#本人収入 t=10\n",
        "#一人当たり収入 t=10\n",
        "#子の人数 t=8以降\n",
        "\n",
        "#t=10: 2018"
      ]
    },
    {
      "cell_type": "markdown",
      "source": [
        "##勤務年数"
      ],
      "metadata": {
        "id": "EegwnE_ooe5_"
      }
    },
    {
      "cell_type": "code",
      "source": [
        "\n",
        "#勤務年数5~15年の人に絞り込む 931名\n",
        "#df2 = df[(5 < df['勤務年数']) & (df['勤務年数'] < 15)]\n",
        "#DataFrames2.append(df)\n",
        "#勤務年数5~15年の人の中で転職を希望する人数 121名\n",
        "#print(len(df2[df2['転職希望D'] == 1]))\n",
        "\n",
        "list_df_kinmu = []\n",
        "\n",
        "for t in range(len(Qs)):\n",
        "    df_kinmu = pd.DataFrame()\n",
        "    id = JHPSs[t][0]\n",
        "    if t==0:\n",
        "        kinmu = JHPSs[t][Qs[t]['勤務年数']-1]\n",
        "    if t>0:\n",
        "        kinmu = []\n",
        "        for data in JHPSs[t][Qs[t]['勤務年数']-1]:\n",
        "            if data == any([1,2,3,7]): kinmu.append(1)\n",
        "            else: kinmu.append(0)\n",
        "    df_kinmu['id']=id\n",
        "    df_kinmu['勤務年数']=kinmu\n",
        "    list_df_kinmu.append(df_kinmu)\n",
        "\n",
        "#2009勤務年数+2010~継続D\n",
        "df_kinmu2 = list_df_kinmu[0]\n",
        "for t in range(len(Qs)-1):\n",
        "    df_kinmu2 = pd.merge(df_kinmu2, list_df_kinmu[t+1], on='id', how='inner', suffixes=[t+1, t+2])\n",
        "\n",
        "for row in range(len(df_kinmu2)):\n",
        "    if df_kinmu2['勤務年数1'][row] >= 8888:\n",
        "        df_kinmu2['勤務年数1'][row] = 0\n",
        "    else: df_kinmu2['勤務年数1'][row] = 2009 - df_kinmu2['勤務年数1'][row]\n",
        "\n",
        "#勤務年数\n",
        "for id in range(len(df_kinmu2)):\n",
        "    for t in range(13):\n",
        "        if t == 0:\n",
        "            df_kinmu2.iloc[id, t+1] = df_kinmu2.iloc[id, t+1]\n",
        "        if t > 0:\n",
        "            if df_kinmu2.iloc[id, t+1] == 1:\n",
        "              df_kinmu2.iloc[id, t+1] = df_kinmu2.iloc[id, t] + 1\n",
        "\n",
        "for t in range(13):\n",
        "    df1 = df_kinmu2['id']\n",
        "    df2 = df_kinmu2.iloc[:,t+1]\n",
        "    df = pd.concat([df1, df2], axis=1)\n",
        "    DataFrames2[t] = pd.merge(df, DataFrames2[t], how='inner', on='id')"
      ],
      "metadata": {
        "id": "nJeVrQU-W2rS"
      },
      "execution_count": null,
      "outputs": []
    },
    {
      "cell_type": "markdown",
      "source": [
        "#⑷ 記述統計（実行しなくてok）"
      ],
      "metadata": {
        "id": "W9uq884eoW_K"
      }
    },
    {
      "cell_type": "code",
      "source": [
        "for i in range(12):\n",
        "  print(DataFrames2[i].describe())\n",
        "  print(DataFrames2[i].isna().sum())"
      ],
      "metadata": {
        "id": "AujmJEdk8sFs"
      },
      "execution_count": null,
      "outputs": []
    },
    {
      "cell_type": "markdown",
      "source": [
        "##記述統計量"
      ],
      "metadata": {
        "id": "YBgLOWdaHlW_"
      }
    },
    {
      "cell_type": "code",
      "source": [
        "for i in range(17):\n",
        "    print('　【', DataFrames2[0].columns.values[i], '】　')\n",
        "    for t in range(len(Qs)):\n",
        "        print('t=', t,\n",
        "            '平均:', DataFrames2[t].iloc[:,i].mean(),\n",
        "            '分散:', DataFrames2[t].iloc[:,i].var(),\n",
        "            '最大:', DataFrames2[t].iloc[:,i].max(),\n",
        "            '最小:', DataFrames2[t].iloc[:,i].min())"
      ],
      "metadata": {
        "id": "RIPZ5wYoXi0-"
      },
      "execution_count": null,
      "outputs": []
    },
    {
      "cell_type": "markdown",
      "source": [
        "##可視化"
      ],
      "metadata": {
        "id": "Mi6rEHazHqOD"
      }
    },
    {
      "cell_type": "code",
      "source": [
        "dataset1 = pd.DataFrame()\n",
        "dataset2 = pd.DataFrame()\n",
        "\n",
        "t = 12\n",
        "\n",
        "for i in range(len(DataFrames2[t])):\n",
        "  if DataFrames2[0].iloc[i, 3]==1:\n",
        "    dataset1 = pd.concat([dataset1, DataFrames2[t].iloc[i, :]], axis=1)\n",
        "  else:\n",
        "    dataset2 = pd.concat([dataset2, DataFrames2[t].iloc[i, :]], axis=1)"
      ],
      "metadata": {
        "id": "3cnuOcQoJDWa"
      },
      "execution_count": null,
      "outputs": []
    },
    {
      "cell_type": "code",
      "source": [
        "dataset1 = dataset1.T\n",
        "dataset2 = dataset2.T\n",
        "\n",
        "figure = pyplot.figure(figsize=(12, 12), dpi=100)\n",
        "\n",
        "labels = []\n",
        "for row in DataFrames2[0]:\n",
        "  labels.append(row)\n",
        "\n",
        "for i in range(16):\n",
        "  axes = figure.add_subplot(4, 4, i+1)\n",
        "  pyplot.title(labels[i])\n",
        "  axes.hist(dataset2.iloc[:, i], bins=15, rwidth=0.8, stacked=True)\n",
        "  axes.hist(dataset1.iloc[:, i], bins=15, rwidth=0.8, stacked=True)"
      ],
      "metadata": {
        "id": "fgeUqOkdSOqt"
      },
      "execution_count": null,
      "outputs": []
    },
    {
      "cell_type": "markdown",
      "source": [
        "#⑸ 回帰分析"
      ],
      "metadata": {
        "id": "a9_cEpB-o7qJ"
      }
    },
    {
      "cell_type": "code",
      "source": [
        "to_drop = ['転職希望D', 'id', '年', 'フレックスD', '社内公募D', '一人当たり収入']\n",
        "\n",
        "labels = []\n",
        "for row in DataFrames2[0].drop(to_drop, axis=1):\n",
        "  labels.append(row)\n",
        "\n",
        "labels2 = [i+2009 for i in range(13)]\n",
        "\n",
        "scores = []\n",
        "coefficients = []\n",
        "DataFrame3 = pd.DataFrame()\n",
        "DataFrame4 = pd.DataFrame()\n",
        "\n",
        "for t in range(10):\n",
        "  X = DataFrames2[t].drop(to_drop, axis=1)\n",
        "  y = DataFrames2[t]['転職希望D']\n",
        "\n",
        "  model = LinearRegression()\n",
        "  #model = LogisticRegression(class_weight='balanced')\n",
        "  model.fit(X, y)\n",
        "\n",
        "  y_hat = model.predict(X)\n",
        "\n",
        "  sse = (y - y_hat) **2\n",
        "  sse = np.sum(sse, axis=0)\n",
        "  sse = sse / (X.shape[0] - X.shape[1] -1 )\n",
        "\n",
        "  X_tmp = (X - X.mean(axis=0))\n",
        "  s = np.dot(X_tmp.T, X_tmp)\n",
        "  s = np.linalg.inv(s)\n",
        "\n",
        "  std_err = np.sqrt(np.diagonal(sse * s))\n",
        "  print(std_err)\n",
        "\n",
        "  #回帰係数をまとめたDataFrame3\n",
        "  df2= pd.DataFrame(model.coef_.T,\n",
        "                   index = labels,\n",
        "                   columns = [labels2[t]])\n",
        "  DataFrame3 = pd.concat([DataFrame3, df2], axis=1)\n",
        "\n",
        "  #t値をまとめたDataFrame4\n",
        "  list_t = []\n",
        "  for i in range(len(std_err)):\n",
        "    list_t.append(model.coef_[i]/std_err[i])\n",
        "\n",
        "  df3= pd.DataFrame(list_t,\n",
        "                   index = labels,\n",
        "                   columns = [labels2[t]])\n",
        "  DataFrame4 = pd.concat([DataFrame4, df2], axis=1)"
      ],
      "metadata": {
        "id": "sQqZw5QXd3U1"
      },
      "execution_count": null,
      "outputs": []
    },
    {
      "cell_type": "code",
      "source": [
        "#男性D=1のみ\n",
        "\n",
        "to_drop = ['転職希望D', 'id', '年', '男性D', 'フレックスD', '社内公募D', '一人当たり収入']\n",
        "\n",
        "labels_male = []\n",
        "for row in DataFrames2[0].drop(to_drop, axis=1):\n",
        "  labels_male.append(row)\n",
        "\n",
        "print(labels_male)\n",
        "\n",
        "labels2 = [i+2009 for i in range(13)]\n",
        "\n",
        "scores = []\n",
        "coefficients = []\n",
        "DataFrame3_male = pd.DataFrame()\n",
        "DataFrame4_male = pd.DataFrame()\n",
        "\n",
        "DataFrames2_male = []\n",
        "for t in range(13):\n",
        "  DataFrames2_male.append(DataFrames2[t][DataFrames2[t]['男性D']==1])\n",
        "\n",
        "for t in range(10):\n",
        "  X_male = DataFrames2_male[t].drop(to_drop, axis=1)\n",
        "  y_male = DataFrames2_male[t]['転職希望D']\n",
        "\n",
        "  model_male = LinearRegression()\n",
        "  #model = LogisticRegression(class_weight='balanced')\n",
        "  model_male.fit(X_male, y_male)\n",
        "\n",
        "  y_male_hat = model_male.predict(X_male)\n",
        "\n",
        "  sse = (y_male - y_male_hat) **2\n",
        "  sse = np.sum(sse, axis=0)\n",
        "  sse = sse / (X_male.shape[0] - X_male.shape[1] -1 )\n",
        "\n",
        "  X_male_tmp = (X_male - X_male.mean(axis=0))\n",
        "  s = np.dot(X_male_tmp.T, X_male_tmp)\n",
        "  s = np.linalg.inv(s)\n",
        "\n",
        "  std_err = np.sqrt(np.diagonal(sse * s))\n",
        "  print(std_err)\n",
        "\n",
        "  #回帰係数をまとめたDataFrame3\n",
        "  df2= pd.DataFrame(model_male.coef_.T,\n",
        "                   index = labels_male,\n",
        "                   columns = [labels2[t]])\n",
        "  DataFrame3_male = pd.concat([DataFrame3_male, df2], axis=1)\n",
        "\n",
        "  #t値をまとめたDataFrame4\n",
        "  list_t = []\n",
        "  for i in range(len(std_err)):\n",
        "    list_t.append(model.coef_[i]/std_err[i])\n",
        "\n",
        "  df3= pd.DataFrame(list_t,\n",
        "                   index = labels_male,\n",
        "                   columns = [labels2[t]])\n",
        "  DataFrame4_male = pd.concat([DataFrame4_male, df2], axis=1)"
      ],
      "metadata": {
        "id": "1V8fBvyxYiex"
      },
      "execution_count": null,
      "outputs": []
    },
    {
      "cell_type": "markdown",
      "source": [
        "#⑹ 回帰係数について"
      ],
      "metadata": {
        "id": "oSTiygsSpbTX"
      }
    },
    {
      "cell_type": "markdown",
      "source": [
        "##t値"
      ],
      "metadata": {
        "id": "JUvIzEKWaZ26"
      }
    },
    {
      "cell_type": "code",
      "source": [
        "DataFrame4_male"
      ],
      "metadata": {
        "id": "tNGWDSlbfD5S"
      },
      "execution_count": null,
      "outputs": []
    },
    {
      "cell_type": "code",
      "source": [
        "DataFrame4"
      ],
      "metadata": {
        "id": "Bv1q3EvbXJaC"
      },
      "execution_count": null,
      "outputs": []
    },
    {
      "cell_type": "markdown",
      "source": [
        "##回帰係数"
      ],
      "metadata": {
        "id": "j21n8Tzqagbl"
      }
    },
    {
      "cell_type": "code",
      "source": [
        "DataFrame3_male"
      ],
      "metadata": {
        "id": "dKM4lyxL05dK"
      },
      "execution_count": null,
      "outputs": []
    },
    {
      "cell_type": "code",
      "source": [
        "DataFrame3"
      ],
      "metadata": {
        "id": "8frfr9_mpQ3S"
      },
      "execution_count": null,
      "outputs": []
    },
    {
      "cell_type": "markdown",
      "source": [
        "#出力\n"
      ],
      "metadata": {
        "id": "IFLi9SAraGat"
      }
    },
    {
      "cell_type": "code",
      "source": [
        "to_drop = ['id', 'フレックスD', '社内公募D', '一人当たり収入']\n",
        "df = pd.DataFrame()\n",
        "\n",
        "for t in range(10):\n",
        "  df1 = df\n",
        "  df2 = DataFrames2[t].drop(to_drop, axis=1)\n",
        "  df2 = df2.rename(columns={df2.columns.values[0]: '勤務年数'})\n",
        "  #print(df2)\n",
        "  df = pd.concat([df1, df2], axis=0, ignore_index=True)\n",
        "\n",
        "#print(df)\n",
        "#print(df.describe())\n",
        "\n",
        "#df.to_csv(\"前処理後.csv\")\n",
        "#files.download(\"前処理後.csv\")\n",
        "\n",
        "#df.describe().to_csv(\"前処理後基本統計量.csv\")\n",
        "#files.download(\"前処理後基本統計量.csv\")"
      ],
      "metadata": {
        "id": "yJHOCN19BviD"
      },
      "execution_count": null,
      "outputs": []
    },
    {
      "cell_type": "code",
      "source": [
        "#DataFrame3_male.to_csv(\"回帰係数(正規).csv\")\n",
        "#files.download(\"回帰係数(正規).csv\")"
      ],
      "metadata": {
        "id": "1P4zAGhuaQKx"
      },
      "execution_count": null,
      "outputs": []
    },
    {
      "cell_type": "code",
      "source": [
        "#DataFrame3.to_csv(\"回帰係数(全体).csv\")\n",
        "#files.download(\"回帰係数(全体).csv\")"
      ],
      "metadata": {
        "id": "bfe08k9Ga0L-"
      },
      "execution_count": null,
      "outputs": []
    },
    {
      "cell_type": "markdown",
      "source": [
        "#不要"
      ],
      "metadata": {
        "id": "9gTGebMvZ7sS"
      }
    },
    {
      "cell_type": "code",
      "source": [
        "dataset3 = DataFrame3\n",
        "\n",
        "figure = pyplot.figure(figsize=(12, 12), dpi=100)\n",
        "\n",
        "labels = DataFrame3.index\n",
        "\n",
        "for i in range(14):\n",
        "  axes = figure.add_subplot(4, 4, i+1)\n",
        "  pyplot.title(labels[i])\n",
        "  axes.plot(dataset3.iloc[i, :11]) #2019まで"
      ],
      "metadata": {
        "id": "Q62nC2j1ppU6"
      },
      "execution_count": null,
      "outputs": []
    }
  ]
}